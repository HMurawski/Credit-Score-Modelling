{
 "cells": [
  {
   "cell_type": "code",
   "execution_count": 1,
   "id": "f4a5ce32",
   "metadata": {},
   "outputs": [],
   "source": [
    "import pandas as pd\n"
   ]
  },
  {
   "cell_type": "code",
   "execution_count": 3,
   "id": "f0ab3dac",
   "metadata": {},
   "outputs": [],
   "source": [
    "df_customers = pd.read_csv(\"..\\\\src\\\\credit_score\\\\data\\\\raw\\\\customers.csv\")\n",
    "df_loans = pd.read_csv(\"..\\\\src\\\\credit_score\\\\data\\\\raw\\\\loans.csv\")\n",
    "df_bureau = pd.read_csv(\"..\\\\src\\\\credit_score\\\\data\\\\raw\\\\bureau_data.csv\")"
   ]
  },
  {
   "cell_type": "code",
   "execution_count": 4,
   "id": "a9a6222b",
   "metadata": {},
   "outputs": [
    {
     "data": {
      "text/plain": [
       "((50000, 12), (50000, 15), (50000, 8))"
      ]
     },
     "execution_count": 4,
     "metadata": {},
     "output_type": "execute_result"
    }
   ],
   "source": [
    "df_customers.shape, df_loans.shape, df_bureau.shape"
   ]
  },
  {
   "cell_type": "code",
   "execution_count": 6,
   "id": "79742183",
   "metadata": {},
   "outputs": [
    {
     "data": {
      "text/plain": [
       "(50000, 26)"
      ]
     },
     "execution_count": 6,
     "metadata": {},
     "output_type": "execute_result"
    }
   ],
   "source": [
    "df = pd.merge(df_customers, df_loans, on=\"cust_id\")\n",
    "df.shape"
   ]
  },
  {
   "cell_type": "code",
   "execution_count": 7,
   "id": "39fcaaee",
   "metadata": {},
   "outputs": [
    {
     "data": {
      "text/plain": [
       "(50000, 33)"
      ]
     },
     "execution_count": 7,
     "metadata": {},
     "output_type": "execute_result"
    }
   ],
   "source": [
    "df = pd.merge(df, df_bureau)\n",
    "df.shape"
   ]
  },
  {
   "cell_type": "code",
   "execution_count": 8,
   "id": "87bb4e53",
   "metadata": {},
   "outputs": [
    {
     "name": "stdout",
     "output_type": "stream",
     "text": [
      "<class 'pandas.core.frame.DataFrame'>\n",
      "RangeIndex: 50000 entries, 0 to 49999\n",
      "Data columns (total 33 columns):\n",
      " #   Column                       Non-Null Count  Dtype  \n",
      "---  ------                       --------------  -----  \n",
      " 0   cust_id                      50000 non-null  object \n",
      " 1   age                          50000 non-null  int64  \n",
      " 2   gender                       50000 non-null  object \n",
      " 3   marital_status               50000 non-null  object \n",
      " 4   employment_status            50000 non-null  object \n",
      " 5   income                       50000 non-null  int64  \n",
      " 6   number_of_dependants         50000 non-null  int64  \n",
      " 7   residence_type               49938 non-null  object \n",
      " 8   years_at_current_address     50000 non-null  int64  \n",
      " 9   city                         50000 non-null  object \n",
      " 10  state                        50000 non-null  object \n",
      " 11  zipcode                      50000 non-null  int64  \n",
      " 12  loan_id                      50000 non-null  object \n",
      " 13  loan_purpose                 50000 non-null  object \n",
      " 14  loan_type                    50000 non-null  object \n",
      " 15  sanction_amount              50000 non-null  int64  \n",
      " 16  loan_amount                  50000 non-null  int64  \n",
      " 17  processing_fee               50000 non-null  float64\n",
      " 18  gst                          50000 non-null  int64  \n",
      " 19  net_disbursement             50000 non-null  int64  \n",
      " 20  loan_tenure_months           50000 non-null  int64  \n",
      " 21  principal_outstanding        50000 non-null  int64  \n",
      " 22  bank_balance_at_application  50000 non-null  int64  \n",
      " 23  disbursal_date               50000 non-null  object \n",
      " 24  installment_start_dt         50000 non-null  object \n",
      " 25  default                      50000 non-null  bool   \n",
      " 26  number_of_open_accounts      50000 non-null  int64  \n",
      " 27  number_of_closed_accounts    50000 non-null  int64  \n",
      " 28  total_loan_months            50000 non-null  int64  \n",
      " 29  delinquent_months            50000 non-null  int64  \n",
      " 30  total_dpd                    50000 non-null  int64  \n",
      " 31  enquiry_count                50000 non-null  int64  \n",
      " 32  credit_utilization_ratio     50000 non-null  int64  \n",
      "dtypes: bool(1), float64(1), int64(19), object(12)\n",
      "memory usage: 12.3+ MB\n"
     ]
    }
   ],
   "source": [
    "df.info()"
   ]
  },
  {
   "cell_type": "code",
   "execution_count": 10,
   "id": "1eef62da",
   "metadata": {},
   "outputs": [
    {
     "data": {
      "text/plain": [
       "default\n",
       "0    45703\n",
       "1     4297\n",
       "Name: count, dtype: int64"
      ]
     },
     "execution_count": 10,
     "metadata": {},
     "output_type": "execute_result"
    }
   ],
   "source": [
    "df[\"default\"] = df[\"default\"].astype(int)\n",
    "df[\"default\"].value_counts()"
   ]
  },
  {
   "cell_type": "code",
   "execution_count": 12,
   "id": "0a0d42aa",
   "metadata": {},
   "outputs": [],
   "source": [
    "from sklearn.model_selection import train_test_split\n",
    "X = df.drop(\"default\", axis=1)\n",
    "y = df[\"default\"]\n",
    "\n",
    "# Split 70% train, 30% rest\n",
    "X_train, X_test, y_train, y_test = train_test_split(X, y, test_size=0.3, random_state=42, stratify=y)"
   ]
  },
  {
   "cell_type": "code",
   "execution_count": 13,
   "id": "ac72d1f9",
   "metadata": {},
   "outputs": [],
   "source": [
    "X_val, X_test, y_val, y_test = train_test_split(X_test, y_test, test_size=1/3, random_state=42, stratify=y_test)"
   ]
  },
  {
   "cell_type": "code",
   "execution_count": 15,
   "id": "4c0e4db7",
   "metadata": {},
   "outputs": [
    {
     "data": {
      "text/plain": [
       "((35000, 32), (10000, 32), (5000, 32))"
      ]
     },
     "execution_count": 15,
     "metadata": {},
     "output_type": "execute_result"
    }
   ],
   "source": [
    "X_train.shape, X_val.shape, X_test.shape"
   ]
  },
  {
   "cell_type": "code",
   "execution_count": 16,
   "id": "30c61016",
   "metadata": {},
   "outputs": [
    {
     "data": {
      "text/plain": [
       "['..\\\\src\\\\credit_score\\\\data\\\\test\\\\y_test.pkl']"
      ]
     },
     "execution_count": 16,
     "metadata": {},
     "output_type": "execute_result"
    }
   ],
   "source": [
    "import joblib\n",
    "\n",
    "joblib.dump(X_test, \"..\\\\src\\\\credit_score\\\\data\\\\test\\\\X_test.pkl\")\n",
    "joblib.dump(y_test, \"..\\\\src\\\\credit_score\\\\data\\\\test\\\\y_test.pkl\")"
   ]
  },
  {
   "cell_type": "code",
   "execution_count": null,
   "id": "c79a673a",
   "metadata": {},
   "outputs": [],
   "source": []
  }
 ],
 "metadata": {
  "kernelspec": {
   "display_name": "Python 3",
   "language": "python",
   "name": "python3"
  },
  "language_info": {
   "codemirror_mode": {
    "name": "ipython",
    "version": 3
   },
   "file_extension": ".py",
   "mimetype": "text/x-python",
   "name": "python",
   "nbconvert_exporter": "python",
   "pygments_lexer": "ipython3",
   "version": "3.11.3"
  }
 },
 "nbformat": 4,
 "nbformat_minor": 5
}
