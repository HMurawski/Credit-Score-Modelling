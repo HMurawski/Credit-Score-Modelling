{
 "cells": [
  {
   "cell_type": "code",
   "execution_count": 1,
   "id": "15a84c9d",
   "metadata": {},
   "outputs": [
    {
     "name": "stdout",
     "output_type": "stream",
     "text": [
      "Obtaining file:///C:/Users/USER/Desktop/projects/Credit%20Score%20Modelling\n",
      "  Installing build dependencies: started\n",
      "  Installing build dependencies: finished with status 'done'\n",
      "  Checking if build backend supports build_editable: started\n",
      "  Checking if build backend supports build_editable: finished with status 'done'\n",
      "  Getting requirements to build editable: started\n",
      "  Getting requirements to build editable: finished with status 'done'\n",
      "  Preparing editable metadata (pyproject.toml): started\n",
      "  Preparing editable metadata (pyproject.toml): finished with status 'done'\n",
      "Building wheels for collected packages: credit-score-modelling\n",
      "  Building editable for credit-score-modelling (pyproject.toml): started\n",
      "  Building editable for credit-score-modelling (pyproject.toml): finished with status 'done'\n",
      "  Created wheel for credit-score-modelling: filename=credit_score_modelling-0.1.0-0.editable-py3-none-any.whl size=2389 sha256=bc2a7687e85785942ea7d0c5b7d75f19870f6089eacff0601cac2806c3046fc8\n",
      "  Stored in directory: C:\\Users\\USER\\AppData\\Local\\Temp\\pip-ephem-wheel-cache-y89i921s\\wheels\\bb\\e9\\0f\\0a4ccd52dabebd8614b7d2d2db4517bf71971810766cec4932\n",
      "Successfully built credit-score-modelling\n",
      "Installing collected packages: credit-score-modelling\n",
      "  Attempting uninstall: credit-score-modelling\n",
      "    Found existing installation: credit-score-modelling 0.1.0\n",
      "    Uninstalling credit-score-modelling-0.1.0:\n",
      "      Successfully uninstalled credit-score-modelling-0.1.0\n",
      "Successfully installed credit-score-modelling-0.1.0\n",
      "Note: you may need to restart the kernel to use updated packages.\n"
     ]
    },
    {
     "name": "stderr",
     "output_type": "stream",
     "text": [
      "\n",
      "[notice] A new release of pip is available: 25.0 -> 25.1.1\n",
      "[notice] To update, run: python.exe -m pip install --upgrade pip\n"
     ]
    }
   ],
   "source": [
    "%pip install -e ..\n",
    "%load_ext autoreload\n",
    "%autoreload 2"
   ]
  },
  {
   "cell_type": "code",
   "execution_count": 6,
   "id": "1989c773",
   "metadata": {},
   "outputs": [],
   "source": [
    "\n",
    "from credit_score.features import load_split"
   ]
  },
  {
   "cell_type": "code",
   "execution_count": 7,
   "id": "55569e6d",
   "metadata": {},
   "outputs": [],
   "source": [
    "df = load_split(\"train\")"
   ]
  },
  {
   "cell_type": "code",
   "execution_count": 8,
   "id": "28b4f128",
   "metadata": {},
   "outputs": [
    {
     "data": {
      "text/plain": [
       "(35000, 33)"
      ]
     },
     "execution_count": 8,
     "metadata": {},
     "output_type": "execute_result"
    }
   ],
   "source": [
    "df.shape"
   ]
  },
  {
   "cell_type": "code",
   "execution_count": null,
   "id": "7dc65c83",
   "metadata": {},
   "outputs": [],
   "source": []
  }
 ],
 "metadata": {
  "kernelspec": {
   "display_name": ".venv",
   "language": "python",
   "name": "python3"
  },
  "language_info": {
   "codemirror_mode": {
    "name": "ipython",
    "version": 3
   },
   "file_extension": ".py",
   "mimetype": "text/x-python",
   "name": "python",
   "nbconvert_exporter": "python",
   "pygments_lexer": "ipython3",
   "version": "3.11.3"
  }
 },
 "nbformat": 4,
 "nbformat_minor": 5
}
