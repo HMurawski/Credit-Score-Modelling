{
 "cells": [
  {
   "cell_type": "code",
   "execution_count": 1,
   "id": "f4a5ce32",
   "metadata": {},
   "outputs": [],
   "source": [
    "import pandas as pd\n"
   ]
  },
  {
   "cell_type": "code",
   "execution_count": 5,
   "id": "f0ab3dac",
   "metadata": {},
   "outputs": [],
   "source": [
    "df_customers = pd.read_csv(\"..\\\\data\\\\raw\\\\customers.csv\")\n",
    "df_loans = pd.read_csv(\"..\\\\data\\\\raw\\\\loans.csv\")\n",
    "df_bureau = pd.read_csv(\"..\\\\data\\\\raw\\\\bureau_data.csv\")"
   ]
  },
  {
   "cell_type": "code",
   "execution_count": 6,
   "id": "a9a6222b",
   "metadata": {},
   "outputs": [
    {
     "data": {
      "text/plain": [
       "((50000, 12), (50000, 15), (50000, 8))"
      ]
     },
     "execution_count": 6,
     "metadata": {},
     "output_type": "execute_result"
    }
   ],
   "source": [
    "df_customers.shape, df_loans.shape, df_bureau.shape"
   ]
  },
  {
   "cell_type": "code",
   "execution_count": 7,
   "id": "79742183",
   "metadata": {},
   "outputs": [
    {
     "data": {
      "text/plain": [
       "(50000, 26)"
      ]
     },
     "execution_count": 7,
     "metadata": {},
     "output_type": "execute_result"
    }
   ],
   "source": [
    "df = pd.merge(df_customers, df_loans, on=\"cust_id\")\n",
    "df.shape"
   ]
  },
  {
   "cell_type": "code",
   "execution_count": 8,
   "id": "39fcaaee",
   "metadata": {},
   "outputs": [
    {
     "data": {
      "text/plain": [
       "(50000, 33)"
      ]
     },
     "execution_count": 8,
     "metadata": {},
     "output_type": "execute_result"
    }
   ],
   "source": [
    "df = pd.merge(df, df_bureau)\n",
    "df.shape"
   ]
  },
  {
   "cell_type": "code",
   "execution_count": 9,
   "id": "87bb4e53",
   "metadata": {},
   "outputs": [
    {
     "name": "stdout",
     "output_type": "stream",
     "text": [
      "<class 'pandas.core.frame.DataFrame'>\n",
      "RangeIndex: 50000 entries, 0 to 49999\n",
      "Data columns (total 33 columns):\n",
      " #   Column                       Non-Null Count  Dtype  \n",
      "---  ------                       --------------  -----  \n",
      " 0   cust_id                      50000 non-null  object \n",
      " 1   age                          50000 non-null  int64  \n",
      " 2   gender                       50000 non-null  object \n",
      " 3   marital_status               50000 non-null  object \n",
      " 4   employment_status            50000 non-null  object \n",
      " 5   income                       50000 non-null  int64  \n",
      " 6   number_of_dependants         50000 non-null  int64  \n",
      " 7   residence_type               49938 non-null  object \n",
      " 8   years_at_current_address     50000 non-null  int64  \n",
      " 9   city                         50000 non-null  object \n",
      " 10  state                        50000 non-null  object \n",
      " 11  zipcode                      50000 non-null  object \n",
      " 12  loan_id                      50000 non-null  object \n",
      " 13  loan_purpose                 50000 non-null  object \n",
      " 14  loan_type                    50000 non-null  object \n",
      " 15  sanction_amount              50000 non-null  int64  \n",
      " 16  loan_amount                  50000 non-null  int64  \n",
      " 17  processing_fee               50000 non-null  float64\n",
      " 18  gst                          50000 non-null  float64\n",
      " 19  net_disbursement             50000 non-null  float64\n",
      " 20  loan_tenure_months           50000 non-null  int64  \n",
      " 21  principal_outstanding        50000 non-null  float64\n",
      " 22  bank_balance_at_application  50000 non-null  float64\n",
      " 23  disbursal_date               50000 non-null  object \n",
      " 24  installment_start_dt         50000 non-null  object \n",
      " 25  default                      50000 non-null  bool   \n",
      " 26  number_of_open_accounts      50000 non-null  int64  \n",
      " 27  number_of_closed_accounts    50000 non-null  int64  \n",
      " 28  total_loan_months            50000 non-null  int64  \n",
      " 29  delinquent_months            50000 non-null  int64  \n",
      " 30  total_dpd                    50000 non-null  int64  \n",
      " 31  enquiry_count                50000 non-null  int64  \n",
      " 32  credit_utilization_ratio     50000 non-null  int64  \n",
      "dtypes: bool(1), float64(5), int64(14), object(13)\n",
      "memory usage: 12.3+ MB\n"
     ]
    }
   ],
   "source": [
    "df.info()"
   ]
  },
  {
   "cell_type": "code",
   "execution_count": 10,
   "id": "1eef62da",
   "metadata": {},
   "outputs": [
    {
     "data": {
      "text/plain": [
       "default\n",
       "0    45703\n",
       "1     4297\n",
       "Name: count, dtype: int64"
      ]
     },
     "execution_count": 10,
     "metadata": {},
     "output_type": "execute_result"
    }
   ],
   "source": [
    "df[\"default\"] = df[\"default\"].astype(int)\n",
    "df[\"default\"].value_counts()"
   ]
  },
  {
   "cell_type": "code",
   "execution_count": 11,
   "id": "4865241e",
   "metadata": {},
   "outputs": [
    {
     "data": {
      "text/plain": [
       "True"
      ]
     },
     "execution_count": 11,
     "metadata": {},
     "output_type": "execute_result"
    }
   ],
   "source": [
    "df[\"cust_id\"].nunique() == len(df)\n"
   ]
  },
  {
   "cell_type": "code",
   "execution_count": 12,
   "id": "c79a673a",
   "metadata": {},
   "outputs": [],
   "source": [
    "ids = df[\"cust_id\"]"
   ]
  },
  {
   "cell_type": "code",
   "execution_count": 13,
   "id": "a39a0c0f",
   "metadata": {},
   "outputs": [],
   "source": [
    "from sklearn.model_selection import train_test_split\n",
    "#Split 70train, 20val,10test\n",
    "train_ids, rest_ids = train_test_split(ids, test_size=0.3, random_state=42, stratify=df[\"default\"])\n",
    "val_ids, test_ids = train_test_split(rest_ids, test_size=1/3, random_state=42, stratify=df[df[\"cust_id\"].isin(rest_ids)][\"default\"])\n"
   ]
  },
  {
   "cell_type": "code",
   "execution_count": 14,
   "id": "b340e739",
   "metadata": {},
   "outputs": [],
   "source": [
    "#save IDs\n",
    "pd.Series(train_ids).to_csv(\"..\\\\data\\\\split\\\\train_ids.txt\", index=False, header=False)\n",
    "pd.Series(val_ids).to_csv(\"..\\\\data\\\\split\\\\val_ids.txt\", index=False, header=False)\n",
    "pd.Series(test_ids).to_csv(\"..\\\\data\\\\split\\\\test_ids.txt\", index=False, header=False)"
   ]
  },
  {
   "cell_type": "code",
   "execution_count": 17,
   "id": "793e101d",
   "metadata": {},
   "outputs": [
    {
     "name": "stdout",
     "output_type": "stream",
     "text": [
      "(35000, 33)\n"
     ]
    },
    {
     "data": {
      "text/html": [
       "<div>\n",
       "<style scoped>\n",
       "    .dataframe tbody tr th:only-of-type {\n",
       "        vertical-align: middle;\n",
       "    }\n",
       "\n",
       "    .dataframe tbody tr th {\n",
       "        vertical-align: top;\n",
       "    }\n",
       "\n",
       "    .dataframe thead th {\n",
       "        text-align: right;\n",
       "    }\n",
       "</style>\n",
       "<table border=\"1\" class=\"dataframe\">\n",
       "  <thead>\n",
       "    <tr style=\"text-align: right;\">\n",
       "      <th></th>\n",
       "      <th>cust_id</th>\n",
       "      <th>age</th>\n",
       "      <th>gender</th>\n",
       "      <th>marital_status</th>\n",
       "      <th>employment_status</th>\n",
       "      <th>income</th>\n",
       "      <th>number_of_dependants</th>\n",
       "      <th>residence_type</th>\n",
       "      <th>years_at_current_address</th>\n",
       "      <th>city</th>\n",
       "      <th>...</th>\n",
       "      <th>disbursal_date</th>\n",
       "      <th>installment_start_dt</th>\n",
       "      <th>default</th>\n",
       "      <th>number_of_open_accounts</th>\n",
       "      <th>number_of_closed_accounts</th>\n",
       "      <th>total_loan_months</th>\n",
       "      <th>delinquent_months</th>\n",
       "      <th>total_dpd</th>\n",
       "      <th>enquiry_count</th>\n",
       "      <th>credit_utilization_ratio</th>\n",
       "    </tr>\n",
       "  </thead>\n",
       "  <tbody>\n",
       "    <tr>\n",
       "      <th>0</th>\n",
       "      <td>C00001</td>\n",
       "      <td>44</td>\n",
       "      <td>M</td>\n",
       "      <td>Married</td>\n",
       "      <td>Self-Employed</td>\n",
       "      <td>113784</td>\n",
       "      <td>3</td>\n",
       "      <td>Owned</td>\n",
       "      <td>27</td>\n",
       "      <td>Bydgoszcz</td>\n",
       "      <td>...</td>\n",
       "      <td>24.07.2019</td>\n",
       "      <td>10.08.2019</td>\n",
       "      <td>0</td>\n",
       "      <td>1</td>\n",
       "      <td>1</td>\n",
       "      <td>42</td>\n",
       "      <td>0</td>\n",
       "      <td>0</td>\n",
       "      <td>3</td>\n",
       "      <td>7</td>\n",
       "    </tr>\n",
       "    <tr>\n",
       "      <th>1</th>\n",
       "      <td>C00002</td>\n",
       "      <td>38</td>\n",
       "      <td>M</td>\n",
       "      <td>Married</td>\n",
       "      <td>Salaried</td>\n",
       "      <td>53064</td>\n",
       "      <td>3</td>\n",
       "      <td>Owned</td>\n",
       "      <td>4</td>\n",
       "      <td>Poznan</td>\n",
       "      <td>...</td>\n",
       "      <td>24.07.2019</td>\n",
       "      <td>15.08.2019</td>\n",
       "      <td>0</td>\n",
       "      <td>3</td>\n",
       "      <td>1</td>\n",
       "      <td>96</td>\n",
       "      <td>12</td>\n",
       "      <td>60</td>\n",
       "      <td>5</td>\n",
       "      <td>4</td>\n",
       "    </tr>\n",
       "    <tr>\n",
       "      <th>2</th>\n",
       "      <td>C00004</td>\n",
       "      <td>55</td>\n",
       "      <td>F</td>\n",
       "      <td>Single</td>\n",
       "      <td>Self-Employed</td>\n",
       "      <td>156068</td>\n",
       "      <td>1</td>\n",
       "      <td>Owned</td>\n",
       "      <td>15</td>\n",
       "      <td>Bydgoszcz</td>\n",
       "      <td>...</td>\n",
       "      <td>24.07.2019</td>\n",
       "      <td>09.08.2019</td>\n",
       "      <td>0</td>\n",
       "      <td>3</td>\n",
       "      <td>0</td>\n",
       "      <td>115</td>\n",
       "      <td>15</td>\n",
       "      <td>87</td>\n",
       "      <td>5</td>\n",
       "      <td>26</td>\n",
       "    </tr>\n",
       "    <tr>\n",
       "      <th>3</th>\n",
       "      <td>C00005</td>\n",
       "      <td>37</td>\n",
       "      <td>M</td>\n",
       "      <td>Married</td>\n",
       "      <td>Salaried</td>\n",
       "      <td>151008</td>\n",
       "      <td>3</td>\n",
       "      <td>Owned</td>\n",
       "      <td>28</td>\n",
       "      <td>Wroclaw</td>\n",
       "      <td>...</td>\n",
       "      <td>24.07.2019</td>\n",
       "      <td>02.08.2019</td>\n",
       "      <td>0</td>\n",
       "      <td>4</td>\n",
       "      <td>2</td>\n",
       "      <td>120</td>\n",
       "      <td>0</td>\n",
       "      <td>0</td>\n",
       "      <td>5</td>\n",
       "      <td>10</td>\n",
       "    </tr>\n",
       "    <tr>\n",
       "      <th>4</th>\n",
       "      <td>C00007</td>\n",
       "      <td>55</td>\n",
       "      <td>M</td>\n",
       "      <td>Married</td>\n",
       "      <td>Self-Employed</td>\n",
       "      <td>143220</td>\n",
       "      <td>3</td>\n",
       "      <td>Mortgage</td>\n",
       "      <td>21</td>\n",
       "      <td>Gdansk</td>\n",
       "      <td>...</td>\n",
       "      <td>24.07.2019</td>\n",
       "      <td>22.08.2019</td>\n",
       "      <td>0</td>\n",
       "      <td>2</td>\n",
       "      <td>2</td>\n",
       "      <td>79</td>\n",
       "      <td>2</td>\n",
       "      <td>16</td>\n",
       "      <td>4</td>\n",
       "      <td>12</td>\n",
       "    </tr>\n",
       "  </tbody>\n",
       "</table>\n",
       "<p>5 rows × 33 columns</p>\n",
       "</div>"
      ],
      "text/plain": [
       "  cust_id  age gender marital_status employment_status  income  \\\n",
       "0  C00001   44      M        Married     Self-Employed  113784   \n",
       "1  C00002   38      M        Married          Salaried   53064   \n",
       "2  C00004   55      F         Single     Self-Employed  156068   \n",
       "3  C00005   37      M        Married          Salaried  151008   \n",
       "4  C00007   55      M        Married     Self-Employed  143220   \n",
       "\n",
       "   number_of_dependants residence_type  years_at_current_address       city  \\\n",
       "0                     3          Owned                        27  Bydgoszcz   \n",
       "1                     3          Owned                         4     Poznan   \n",
       "2                     1          Owned                        15  Bydgoszcz   \n",
       "3                     3          Owned                        28    Wroclaw   \n",
       "4                     3       Mortgage                        21     Gdansk   \n",
       "\n",
       "   ... disbursal_date installment_start_dt default number_of_open_accounts  \\\n",
       "0  ...     24.07.2019           10.08.2019       0                       1   \n",
       "1  ...     24.07.2019           15.08.2019       0                       3   \n",
       "2  ...     24.07.2019           09.08.2019       0                       3   \n",
       "3  ...     24.07.2019           02.08.2019       0                       4   \n",
       "4  ...     24.07.2019           22.08.2019       0                       2   \n",
       "\n",
       "  number_of_closed_accounts  total_loan_months  delinquent_months  total_dpd  \\\n",
       "0                         1                 42                  0          0   \n",
       "1                         1                 96                 12         60   \n",
       "2                         0                115                 15         87   \n",
       "3                         2                120                  0          0   \n",
       "4                         2                 79                  2         16   \n",
       "\n",
       "   enquiry_count  credit_utilization_ratio  \n",
       "0              3                         7  \n",
       "1              5                         4  \n",
       "2              5                        26  \n",
       "3              5                        10  \n",
       "4              4                        12  \n",
       "\n",
       "[5 rows x 33 columns]"
      ]
     },
     "execution_count": 17,
     "metadata": {},
     "output_type": "execute_result"
    }
   ],
   "source": [
    "train_ids = pd.read_csv(\"..\\\\data\\\\split\\\\train_ids.txt\", header=None)[0].astype(df[\"cust_id\"].dtype)\n",
    "\n",
    "df_train = df[df[\"cust_id\"].isin(train_ids)].reset_index(drop=True)\n",
    "print(df_train.shape)\n",
    "df_train.head()\n"
   ]
  },
  {
   "cell_type": "code",
   "execution_count": null,
   "id": "8dfa6cf5",
   "metadata": {},
   "outputs": [],
   "source": []
  }
 ],
 "metadata": {
  "kernelspec": {
   "display_name": "Python 3",
   "language": "python",
   "name": "python3"
  },
  "language_info": {
   "codemirror_mode": {
    "name": "ipython",
    "version": 3
   },
   "file_extension": ".py",
   "mimetype": "text/x-python",
   "name": "python",
   "nbconvert_exporter": "python",
   "pygments_lexer": "ipython3",
   "version": "3.11.3"
  }
 },
 "nbformat": 4,
 "nbformat_minor": 5
}
