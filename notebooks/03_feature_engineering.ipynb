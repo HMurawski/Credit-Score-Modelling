{
 "cells": [
  {
   "cell_type": "code",
   "execution_count": 1,
   "id": "e470324a",
   "metadata": {},
   "outputs": [
    {
     "name": "stderr",
     "output_type": "stream",
     "text": [
      "\n",
      "[notice] A new release of pip is available: 25.0 -> 25.1.1\n",
      "[notice] To update, run: python.exe -m pip install --upgrade pip\n"
     ]
    },
    {
     "name": "stdout",
     "output_type": "stream",
     "text": [
      "Obtaining file:///C:/Users/USER/Desktop/projects/Credit%20Score%20Modelling\n",
      "  Installing build dependencies: started\n",
      "  Installing build dependencies: finished with status 'done'\n",
      "  Checking if build backend supports build_editable: started\n",
      "  Checking if build backend supports build_editable: finished with status 'done'\n",
      "  Getting requirements to build editable: started\n",
      "  Getting requirements to build editable: finished with status 'done'\n",
      "  Preparing editable metadata (pyproject.toml): started\n",
      "  Preparing editable metadata (pyproject.toml): finished with status 'done'\n",
      "Building wheels for collected packages: credit-score-modelling\n",
      "  Building editable for credit-score-modelling (pyproject.toml): started\n",
      "  Building editable for credit-score-modelling (pyproject.toml): finished with status 'done'\n",
      "  Created wheel for credit-score-modelling: filename=credit_score_modelling-0.1.0-0.editable-py3-none-any.whl size=2389 sha256=1a3e542f251e6988e4ecf31fce99cd1aa07cae3b68af98b615e6bb1abbb3ed39\n",
      "  Stored in directory: C:\\Users\\USER\\AppData\\Local\\Temp\\pip-ephem-wheel-cache-wz6271fk\\wheels\\bb\\e9\\0f\\0a4ccd52dabebd8614b7d2d2db4517bf71971810766cec4932\n",
      "Successfully built credit-score-modelling\n",
      "Installing collected packages: credit-score-modelling\n",
      "  Attempting uninstall: credit-score-modelling\n",
      "    Found existing installation: credit-score-modelling 0.1.0\n",
      "    Uninstalling credit-score-modelling-0.1.0:\n",
      "      Successfully uninstalled credit-score-modelling-0.1.0\n",
      "Successfully installed credit-score-modelling-0.1.0\n",
      "Note: you may need to restart the kernel to use updated packages.\n"
     ]
    }
   ],
   "source": [
    "%pip install -e ..\n",
    "%load_ext autoreload\n",
    "%autoreload 2"
   ]
  },
  {
   "cell_type": "code",
   "execution_count": 12,
   "id": "9c2b9295",
   "metadata": {},
   "outputs": [],
   "source": [
    "import pandas as pd\n",
    "from credit_score.features.load_data import load_split\n",
    "from credit_score.features.cleaning import fit_cleaning_metadata, clean_and_prepare"
   ]
  },
  {
   "cell_type": "code",
   "execution_count": 13,
   "id": "762f1e3a",
   "metadata": {},
   "outputs": [],
   "source": [
    "# Load raw split datasets\n",
    "df_train = load_split(\"train\")\n",
    "df_val   = load_split(\"val\")\n",
    "df_test  = load_split(\"test\")\n",
    "\n",
    "# Fit cleaning metadata on train\n",
    "metadata = fit_cleaning_metadata(df_train)"
   ]
  },
  {
   "cell_type": "code",
   "execution_count": 14,
   "id": "809912ad",
   "metadata": {},
   "outputs": [
    {
     "name": "stdout",
     "output_type": "stream",
     "text": [
      "Outliers removed: 11\n",
      "Outliers removed: 3\n",
      "Outliers removed: 1\n"
     ]
    }
   ],
   "source": [
    "# Clean all datasets using train-based logic\n",
    "df_train = clean_and_prepare(df_train, metadata)\n",
    "df_val   = clean_and_prepare(df_val, metadata)\n",
    "df_test  = clean_and_prepare(df_test, metadata)"
   ]
  },
  {
   "cell_type": "code",
   "execution_count": null,
   "id": "a026ac8b",
   "metadata": {},
   "outputs": [],
   "source": []
  }
 ],
 "metadata": {
  "kernelspec": {
   "display_name": ".venv",
   "language": "python",
   "name": "python3"
  },
  "language_info": {
   "codemirror_mode": {
    "name": "ipython",
    "version": 3
   },
   "file_extension": ".py",
   "mimetype": "text/x-python",
   "name": "python",
   "nbconvert_exporter": "python",
   "pygments_lexer": "ipython3",
   "version": "3.11.3"
  }
 },
 "nbformat": 4,
 "nbformat_minor": 5
}
